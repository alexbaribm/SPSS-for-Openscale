{
 "cells": [
  {
   "cell_type": "markdown",
   "metadata": {},
   "source": [
    "## Overview\n",
    "In this notebook, we outline how to create a WML Deployable function as a frontend to the trained machine learning model so that we can provide the required logging for Watson Openscale.\n"
   ]
  },
  {
   "cell_type": "code",
   "execution_count": 1,
   "metadata": {},
   "outputs": [
    {
     "name": "stderr",
     "output_type": "stream",
     "text": [
      "/opt/conda/envs/DSX-Python35/lib/python3.5/site-packages/sklearn/cross_validation.py:41: DeprecationWarning: This module was deprecated in version 0.18 in favor of the model_selection module into which all the refactored classes and functions are moved. Also note that the interface of the new CV iterators are different from that of this module. This module will be removed in 0.20.\n",
      "  \"This module will be removed in 0.20.\", DeprecationWarning)\n"
     ]
    }
   ],
   "source": [
    "from watson_machine_learning_client import WatsonMachineLearningAPIClient"
   ]
  },
  {
   "cell_type": "code",
   "execution_count": 2,
   "metadata": {},
   "outputs": [],
   "source": [
    "# Define end point url from deployed SPSS model\n",
    "spss_scoring_url='https://us-south.ml.cloud.ibm.com/v3/wml_instances/8654e5c8-9bda-4800-9b4d-31d69fa179c3/deployments/e4a73684-8150-4fcb-a2a0-6cbf229ba8e0/online'"
   ]
  },
  {
   "cell_type": "code",
   "execution_count": 3,
   "metadata": {},
   "outputs": [],
   "source": [
    "# Specify the credentials for Watson Machine Learning and define wml client\n",
    "#@hidden_cell\n",
    "\n",
    "wml_credentials={\n",
    "  \"apikey\": \"*\",\n",
    "  \"iam_apikey_description\": \"*\",\n",
    "  \"iam_apikey_name\": \"*\",\n",
    "  \"iam_role_crn\": \"*\",\n",
    "  \"iam_serviceid_crn\": \"*\",\n",
    "  \"instance_id\": \"*\",\n",
    "  \"password\": \"*\",\n",
    "  \"url\": \"*\",\n",
    "  \"username\": \"*\"\n",
    "}\n",
    "\n",
    "client = WatsonMachineLearningAPIClient(wml_credentials)\n"
   ]
  },
  {
   "cell_type": "code",
   "execution_count": 4,
   "metadata": {},
   "outputs": [],
   "source": [
    "# define values to be sent to deploy SPSS model for testing \n",
    "array_of_values_to_be_scored=[\"F\",\"S\",1,38000.000000,\"N\",24.393333,23.560000,0.000000,206.080000,0,\"CC\",\"Budget\",\"Intnl_discount\",229.640000,3]\n",
    "another_array_of_values_to_be_scored=[\"M\",\"M\",2,29616.000000,\"N\",49.426667,29.780000,0.000000,45.500000,0,\"CH\",\"FreeLocal\",\"Standard\",75.290000,2]"
   ]
  },
  {
   "cell_type": "code",
   "execution_count": 5,
   "metadata": {},
   "outputs": [
    {
     "name": "stdout",
     "output_type": "stream",
     "text": [
      "<class 'dict'>\n",
      "{'fields': ['Gender', 'Status', 'Children', 'Est Income', 'Car Owner', 'Age', 'LongDistance', 'International', 'Local', 'Dropped', 'Paymethod', 'LocalBilltype', 'LongDistanceBilltype', 'Usage', 'RatePlan'], 'values': [['F', 'S', 1, 38000.0, 'N', 24.393333, 23.56, 0.0, 206.08, 0, 'CC', 'Budget', 'Intnl_discount', 229.64, 3], ['M', 'M', 2, 29616.0, 'N', 49.426667, 29.78, 0.0, 45.5, 0, 'CH', 'FreeLocal', 'Standard', 75.29, 2]]}\n"
     ]
    }
   ],
   "source": [
    "# create payload to send to deployed SPSS model for testing\n",
    "fields=[\"Gender\", \"Status\", \"Children\", \"Est Income\", \"Car Owner\", \"Age\", \"LongDistance\", \"International\", \"Local\", \"Dropped\", \"Paymethod\", \"LocalBilltype\", \"LongDistanceBilltype\", \"Usage\", \"RatePlan\"]\n",
    "\n",
    "values= [array_of_values_to_be_scored, another_array_of_values_to_be_scored]\n",
    "\n",
    "\n",
    "test_data = {\n",
    "    \"fields\": fields,\n",
    "    \"values\": values\n",
    "}\n",
    "print(type(test_data))\n",
    "print(test_data)"
   ]
  },
  {
   "cell_type": "code",
   "execution_count": 6,
   "metadata": {},
   "outputs": [
    {
     "name": "stdout",
     "output_type": "stream",
     "text": [
      "{'fields': ['Gender', 'Status', 'Children', 'Est Income', 'Car Owner', 'Age', 'LongDistance', 'International', 'Local', 'Dropped', 'Paymethod', 'LocalBilltype', 'LongDistanceBilltype', 'Usage', 'RatePlan'], 'values': [['F', 'S', 1, 38000.0, 'N', 24.393333, 23.56, 0.0, 206.08, 0, 'CC', 'Budget', 'Intnl_discount', 229.64, 3], ['M', 'M', 2, 29616.0, 'N', 49.426667, 29.78, 0.0, 45.5, 0, 'CH', 'FreeLocal', 'Standard', 75.29, 2]]}\n",
      "{'fields': ['Gender', 'Status', 'Children', 'Est Income', 'Car Owner', 'Age', 'LongDistance', 'International', 'Local', 'Dropped', 'Paymethod', 'LocalBilltype', 'LongDistanceBilltype', 'Usage', 'RatePlan', '$C-CHURN', '$CC-CHURN'], 'values': [['F', 'S', 1, 38000.0, 'N', 24.393333, 23.56, 0.0, 206.08, 0, 'CC', 'Budget', 'Intnl_discount', 229.64, 3, 'T', 0.9915966386554622], ['M', 'M', 2, 29616.0, 'N', 49.426667, 29.78, 0.0, 45.5, 0, 'CH', 'FreeLocal', 'Standard', 75.29, 2, 'F', 0.964824120603015]]}\n"
     ]
    }
   ],
   "source": [
    "# Score data against deployed SPSS model\n",
    "payload = test_data\n",
    "print(payload)\n",
    "#result = client.deployments.score( function_deployment_endpoint_url, payload )\n",
    "result = client.deployments.score( spss_scoring_url, payload )\n",
    "if \"error\" in result:\n",
    "    print( result[\"error\"] )\n",
    "else:\n",
    "    print( result )"
   ]
  },
  {
   "cell_type": "code",
   "execution_count": 7,
   "metadata": {},
   "outputs": [
    {
     "name": "stdout",
     "output_type": "stream",
     "text": [
      "------------------------------------  --------------------------------------------------------  ------------------------  -----------------  -----------------\n",
      "GUID                                  NAME                                                      CREATED                   FRAMEWORK          TYPE\n",
      "e18e3731-de87-4d70-a846-a194fdcb4ebe  TelusChurn_0603_hot_enc                                   2019-06-03T17:16:37.174Z  mllib              definition\n",
      "5c77477a-95e4-4254-b6d1-a6a81dbf6b08  TelcoDemoSpark                                            2019-05-29T21:52:30.977Z  mllib              definition\n",
      "33ba01fb-8988-4ef0-9571-be82df83cf84  TecloDemoSpark                                            2019-05-29T21:51:40.159Z  mllib              definition\n",
      "d4e0d851-5935-4221-8406-51b804891069  TelusChurn_0520_hot_enc                                   2019-05-21T19:32:43.915Z  mllib              definition\n",
      "18b27680-e8f6-44ce-808d-9d60355c525b  TelusChurn_0520_hot_enc                                   2019-05-20T22:03:42.075Z  mllib              definition\n",
      "d9a8f790-9c4e-4275-a750-89ddca9e252a  TelusChurn_0520_pyspark                                   2019-05-20T20:05:21.508Z  mllib              definition\n",
      "3fbe861c-9f62-4cef-b7ee-b65ae5142328  churn_manual                                              2019-05-17T13:32:22.696Z  wml                definition\n",
      "145a7d9d-fb69-41a0-a73c-90dbe6b1b395  churn_try                                                 2019-05-17T13:18:27.947Z  wml                definition\n",
      "daf0ac4e-8265-4dc0-a9ba-030ecb715d95  TelusChurn_0515                                           2019-05-15T20:35:28.034Z  mllib              definition\n",
      "e313097f-d99f-43f8-a3a8-fc70b109be51  ChurnSpark_0419                                           2019-04-19T15:17:29.940Z  mllib              definition\n",
      "f6ff80e1-cbcb-4315-baf3-477eed5ed383  Spark German Risk Model - Final                           2019-04-11T14:09:42.492Z  mllib              definition\n",
      "6cd31c03-2f31-49bd-abb0-52703c604f49  AIOS Spark German Risk Model - Final                      2019-04-09T19:02:01.793Z  mllib              definition\n",
      "af346663-fb85-4a22-bcd7-cc3f6b40befc  Continious Learning                                       2019-03-06T18:09:46.535Z  wml                definition\n",
      "8f7e12ad-1359-49a7-b74e-b174421b4bdd  ChurnSpark_1                                              2019-02-06T14:01:29.465Z  mllib              definition\n",
      "25742221-47ce-42bd-a09e-a2e1ca6f90ed  AIOS Spark German Risk Model - Final                      2019-01-30T22:44:36.307Z  mllib              definition\n",
      "a616de46-33de-4272-a696-d54ec796ecd6  AIOS Spark German Risk Model - Final                      2019-01-30T21:35:12.198Z  mllib              definition\n",
      "c7970e2d-a393-4d6f-bdab-a5f43c2b1d7c  AIOS Spark German Risk Model - Final                      2019-01-30T20:45:54.903Z  mllib              definition\n",
      "9fc8e9f3-5202-44d3-a2ae-6c64c23889ab  training def for drug-selection                           2019-01-22T03:02:28.107Z  mllib              definition\n",
      "a4fd5289-2fee-4df6-ba3f-b8bfbe3a1633  SPSS_c5_scoring_branch                                    2019-06-17T13:30:10.395Z  spss-modeler-18.1  model\n",
      "64aff9ae-6447-4eec-b5a5-3d9668e6b042  CHURN_spss_indModel                                       2019-06-13T20:26:38.891Z  pmml-4.2           model\n",
      "c87748a8-a6e7-4f4a-9d42-c2d566f96665  SPSS_churn_c5                                             2019-06-12T13:18:00.476Z  spss-modeler-18.1  model\n",
      "02459669-013a-4027-9d52-7902bb66f2f7  SPSS_churn                                                2019-06-11T15:56:31.764Z  spss-modeler-18.1  model\n",
      "f0b032be-6aa1-4788-b70a-e22986e15d43  TelusChurn_0603_hot_enc                                   2019-06-03T17:16:41.621Z  mllib-2.3          model\n",
      "e2b35773-42c5-42df-aabd-459a1b978a89  TelcoDemoSpark                                            2019-05-29T21:52:34.363Z  mllib-2.3          model\n",
      "6cc0d2b0-39b5-4505-b6bb-c2f2c62bd117  TelusChurn_SkLearn                                        2019-05-29T18:04:02.829Z  scikit-learn-0.19  model\n",
      "1adb7488-d94a-4dfc-85a6-a5634fd61f57  TelusChurn_0520_hot_enc                                   2019-05-21T19:32:47.478Z  mllib-2.3          model\n",
      "52018254-319f-4a51-bdcc-4a4395fd9de3  TelusChurn_0520_hot_enc                                   2019-05-20T22:03:45.806Z  mllib-2.3          model\n",
      "439fa209-bf2f-47f4-a514-461a92ce549f  TelusChurn_0520_pyspark                                   2019-05-20T20:05:24.556Z  mllib-2.3          model\n",
      "100e55bb-bb72-4680-94c8-4c8055996e48  churn_manual                                              2019-05-17T13:32:25.318Z  wml-1.1            model\n",
      "81ea0a6a-2a64-49a7-8894-91e88cc03352  churn_try                                                 2019-05-17T13:18:30.730Z  wml-1.1            model\n",
      "d286c21a-0c0b-44e1-a531-7beffd8bc941  TelusChurn_0515                                           2019-05-15T20:35:32.013Z  mllib-2.3          model\n",
      "36920525-32d1-4218-938c-f62bf631acaf  survived_spss                                             2019-05-01T18:41:20.404Z  pmml-4.2           model\n",
      "21bd8bfd-4639-4a45-a454-5e7ee3a5ef8d  Analysis_spss                                             2019-05-01T18:41:01.078Z  spss-modeler-18.1  model\n",
      "c1d30e4b-2bf7-4e6f-a4d3-c56b8abf5041  CHURN_Nugget                                              2019-04-23T13:40:01.734Z  pmml-4.2           model\n",
      "cdd86a86-9478-4b4f-b491-bf005fad8e29  ChurnSpark_0419                                           2019-04-19T15:17:37.097Z  mllib-2.1          model\n",
      "81742a5e-c0d8-4db5-9365-59dcf7b3c080  churn_Analysis                                            2019-04-16T16:24:58.191Z  spss-modeler-18.1  model\n",
      "593abeb0-30c9-4aa1-b044-6533478b7e97  Spark German Risk Model - Final                           2019-04-11T14:09:48.400Z  mllib-2.1          model\n",
      "9c6dc2c5-bf5a-47e6-b52d-90ce93835d9b  AIOS Spark German Risk Model - Final                      2019-04-09T19:02:07.610Z  mllib-2.1          model\n",
      "cd693d14-da8d-430d-bba4-7c7528fe2ac6  Continious Learning                                       2019-03-06T18:09:49.275Z  wml-1.2            model\n",
      "f862ecbd-1cf5-4c82-8b3f-c726d10e3ec4  ChurnSpark_1                                              2019-02-06T14:01:35.217Z  mllib-2.3          model\n",
      "b556cd94-e26f-4f28-8bd0-b664b2f891b7  drug-selection                                            2019-01-22T03:02:29.696Z  mllib-2.1          model\n",
      "83e4d4cd-4c7f-48a7-bff7-85a532fb6a29  CustomerChurn SPSS function scoring branch deployment v3  2019-06-17T13:38:04.475Z  n/a                online deployment\n",
      "e4a73684-8150-4fcb-a2a0-6cbf229ba8e0  SPSS_c5_scoring_branch_depl                               2019-06-17T13:31:11.481Z  spss-modeler-18.1  online deployment\n",
      "36719e3e-48f8-4da8-9db1-9403f6ce33a8  SPSS_churn_c5                                             2019-06-12T13:18:40.303Z  spss-modeler-18.1  online deployment\n",
      "4e1090d0-e144-4e38-a1ff-81e328183519  Telus_hot_enc_0603                                        2019-06-03T17:18:03.342Z  mllib-2.3          online deployment\n",
      "0ad8c7e1-7a98-482e-9667-e893e2779eed  CustomerChurn SPSS Function - scoring v3                  2019-06-17T13:36:21.309Z  -                  python function\n",
      "fa9cbad9-0a8d-4d6c-afe7-2a6d41d9bd75  CustomerChurn SPSS Function - scoring v2                  2019-06-17T12:43:48.345Z  -                  python function\n",
      "526ea134-b677-4462-85cd-5977ef2ab80e  CustomerChurn SPSS Function - scoring                     2019-06-15T14:19:05.488Z  -                  python function\n",
      "b7ecba27-9c9e-4e02-9e9a-0c65ca23ffa7  Customer Churn SPSS Function                              2019-06-14T21:07:06.518Z  -                  python function\n",
      "5bc6ef51-04ae-4cb3-a8f1-9791abfbd19b  Customer Churn SPSS Function                              2019-06-14T19:03:05.136Z  -                  python function\n",
      "------------------------------------  --------------------------------------------------------  ------------------------  -----------------  -----------------\n",
      "Note: Only first 50 records were displayed. To display more use more specific list functions.\n"
     ]
    }
   ],
   "source": [
    "# list the WML repositories\n",
    "client.repository.list()"
   ]
  },
  {
   "cell_type": "markdown",
   "metadata": {},
   "source": [
    "### WML Deployable Function\n",
    "Create WML deployable function"
   ]
  },
  {
   "cell_type": "code",
   "execution_count": 8,
   "metadata": {},
   "outputs": [],
   "source": [
    "ai_params = {}\n",
    "def score_generator(params=ai_params):\n",
    "\n",
    "    def score(payload):\n",
    "        \"\"\"AI function with model version.\n",
    "\n",
    "        \"\"\"\n",
    "        \n",
    "        from watson_machine_learning_client import WatsonMachineLearningAPIClient\n",
    "        \n",
    "        # Paste your credentials here \n",
    "        wml_credentials={\n",
    "              \"apikey\": \"*\",\n",
    "              \"iam_apikey_description\": \"*\",\n",
    "              \"iam_apikey_name\": \"*\",\n",
    "              \"iam_role_crn\": \"*\",\n",
    "              \"iam_serviceid_crn\": \"*\",\n",
    "              \"instance_id\": \"*\",\n",
    "              \"password\": \"*\",\n",
    "              \"url\": \"*\",\n",
    "              \"username\": \"*\"\n",
    "}\n",
    "\n",
    "\n",
    "        \n",
    "        client = WatsonMachineLearningAPIClient(wml_credentials)\n",
    "        #scoring_url = params[\"scoring_url\"]\n",
    "        scoring_url='https://us-south.ml.cloud.ibm.com/v3/wml_instances/8654e5c8-9bda-4800-9b4d-31d69fa179c3/deployments/e4a73684-8150-4fcb-a2a0-6cbf229ba8e0/online'\n",
    "        scores_model = client.deployments.score(scoring_url, payload)\n",
    "        #print(\"scores_model\")\n",
    "        #print(scores_model)\n",
    "        \n",
    "        fields_model = payload[\"fields\"] + [\"probability\"] + [\"prediction\"] + [\"predictedLabel\"]\n",
    "        \n",
    "        # The probability values and prediction values below are set for a binary classification model.\n",
    "        \n",
    "        values_model = []\n",
    "        for i in range(len(scores_model[\"values\"])):\n",
    "            if scores_model[\"values\"][i][-2] == \"F\":\n",
    "                prediction = 0.0\n",
    "                predicted_label = \"F\"\n",
    "                if scores_model[\"values\"][i][-1] is not None:\n",
    "                    prob_list = [float(scores_model[\"values\"][i][-1]), 1 - float(scores_model[\"values\"][i][-1])]\n",
    "            else:\n",
    "                prediction = 1.0\n",
    "                predicted_label = \"T\"\n",
    "                if scores_model[\"values\"][i][-1] is not None:\n",
    "                    prob_list = [1 - float(scores_model[\"values\"][i][-1]), float(scores_model[\"values\"][i][-1])]\n",
    "            \n",
    "            values_model.append(payload[\"values\"][i] + [prob_list] + [prediction] + [predicted_label])\n",
    "        \n",
    "        payload_model = {\"fields\": fields_model, \"values\": values_model}\n",
    "        \n",
    "        return payload_model\n",
    "\n",
    "    return score"
   ]
  },
  {
   "cell_type": "markdown",
   "metadata": {},
   "source": [
    "### Test the WML Deployable function locally, before deploying to WML."
   ]
  },
  {
   "cell_type": "code",
   "execution_count": 9,
   "metadata": {},
   "outputs": [
    {
     "name": "stdout",
     "output_type": "stream",
     "text": [
      "<class 'dict'>\n",
      "{'fields': ['Gender', 'Status', 'Children', 'Est Income', 'Car Owner', 'Age', 'LongDistance', 'International', 'Local', 'Dropped', 'Paymethod', 'LocalBilltype', 'LongDistanceBilltype', 'Usage', 'RatePlan'], 'values': [['F', 'S', 1, 38000.0, 'N', 24.393333, 23.56, 0.0, 206.08, 0, 'CC', 'Budget', 'Intnl_discount', 229.64, 3], ['M', 'M', 2, 29616.0, 'N', 49.426667, 29.78, 0.0, 45.5, 0, 'CH', 'FreeLocal', 'Standard', 75.29, 2]]}\n"
     ]
    }
   ],
   "source": [
    "#Define test data to send to the function\n",
    "\n",
    "fields=[\"Gender\", \"Status\", \"Children\", \"Est Income\", \"Car Owner\", \"Age\", \"LongDistance\", \"International\", \"Local\", \"Dropped\", \"Paymethod\", \"LocalBilltype\", \"LongDistanceBilltype\", \"Usage\", \"RatePlan\"]\n",
    "values= [array_of_values_to_be_scored, another_array_of_values_to_be_scored]\n",
    "\n",
    "\n",
    "test_data = {\n",
    "    \"fields\": fields,\n",
    "    \"values\": values\n",
    "}\n",
    "print(type(test_data))\n",
    "print(test_data)"
   ]
  },
  {
   "cell_type": "code",
   "execution_count": 10,
   "metadata": {},
   "outputs": [
    {
     "name": "stdout",
     "output_type": "stream",
     "text": [
      "func_result:  {'fields': ['Gender', 'Status', 'Children', 'Est Income', 'Car Owner', 'Age', 'LongDistance', 'International', 'Local', 'Dropped', 'Paymethod', 'LocalBilltype', 'LongDistanceBilltype', 'Usage', 'RatePlan', 'probability', 'prediction', 'predictedLabel'], 'values': [['F', 'S', 1, 38000.0, 'N', 24.393333, 23.56, 0.0, 206.08, 0, 'CC', 'Budget', 'Intnl_discount', 229.64, 3, [0.008403361344537785, 0.9915966386554622], 1.0, 'T'], ['M', 'M', 2, 29616.0, 'N', 49.426667, 29.78, 0.0, 45.5, 0, 'CH', 'FreeLocal', 'Standard', 75.29, 2, [0.964824120603015, 0.035175879396984966], 0.0, 'F']]}\n"
     ]
    }
   ],
   "source": [
    "test_payload = test_data\n",
    "# Pass the sample canvas data to the function as a test\n",
    "#\n",
    "\n",
    "func_result = score_generator()(test_payload)\n",
    "print(\"func_result: \",func_result )"
   ]
  },
  {
   "cell_type": "code",
   "execution_count": 12,
   "metadata": {},
   "outputs": [
    {
     "name": "stdout",
     "output_type": "stream",
     "text": [
      "No RUNTIME_UID passed. Creating default runtime... SUCCESS\n",
      "\n",
      "Successfully created default runtime with uid: 407fff90-b3f5-4bf6-91cc-f7b965c53960\n"
     ]
    }
   ],
   "source": [
    "# Store the deployable function in your Watson Machine Learning repository\n",
    "#\n",
    "meta_data = { client.repository.FunctionMetaNames.NAME : 'CustomerChurn SPSS Function - scoring v4' }\n",
    "function_details = client.repository.store_function( meta_props=meta_data, function=score_generator )"
   ]
  },
  {
   "cell_type": "code",
   "execution_count": 13,
   "metadata": {},
   "outputs": [
    {
     "name": "stdout",
     "output_type": "stream",
     "text": [
      "------------------------------------  --------------------------------------------------------  ------  --------------  ------------------------  -----------------  -------------\n",
      "GUID                                  NAME                                                      TYPE    STATE           CREATED                   FRAMEWORK          ARTIFACT TYPE\n",
      "83e4d4cd-4c7f-48a7-bff7-85a532fb6a29  CustomerChurn SPSS function scoring branch deployment v3  online  DEPLOY_SUCCESS  2019-06-17T13:38:04.475Z  n/a                function\n",
      "e4a73684-8150-4fcb-a2a0-6cbf229ba8e0  SPSS_c5_scoring_branch_depl                               online  DEPLOY_SUCCESS  2019-06-17T13:31:11.481Z  spss-modeler-18.1  model\n",
      "36719e3e-48f8-4da8-9db1-9403f6ce33a8  SPSS_churn_c5                                             online  DEPLOY_SUCCESS  2019-06-12T13:18:40.303Z  spss-modeler-18.1  model\n",
      "4e1090d0-e144-4e38-a1ff-81e328183519  Telus_hot_enc_0603                                        online  DEPLOY_SUCCESS  2019-06-03T17:18:03.342Z  mllib-2.3          model\n",
      "------------------------------------  --------------------------------------------------------  ------  --------------  ------------------------  -----------------  -------------\n"
     ]
    }
   ],
   "source": [
    "# List the deployments in WML\n",
    "# You should see a reference to the function you just deployed (check the Name field)\n",
    "client.deployments.list()"
   ]
  },
  {
   "cell_type": "code",
   "execution_count": 41,
   "metadata": {},
   "outputs": [
    {
     "data": {
      "text/plain": [
       "'SUCCESS'"
      ]
     },
     "execution_count": 41,
     "metadata": {},
     "output_type": "execute_result"
    }
   ],
   "source": [
    "client.deployments.delete('2262648b-1720-42d4-b5ef-7b70b9e3d0e4')"
   ]
  },
  {
   "cell_type": "code",
   "execution_count": 42,
   "metadata": {},
   "outputs": [
    {
     "name": "stdout",
     "output_type": "stream",
     "text": [
      "\n",
      "\n",
      "#######################################################################################\n",
      "\n",
      "Synchronous deployment creation for uid: '0ad8c7e1-7a98-482e-9667-e893e2779eed' started\n",
      "\n",
      "#######################################################################################\n",
      "\n",
      "\n",
      "INITIALIZING\n",
      "DEPLOY_IN_PROGRESS.\n",
      "DEPLOY_SUCCESS\n",
      "\n",
      "\n",
      "------------------------------------------------------------------------------------------------\n",
      "Successfully finished deployment creation, deployment_uid='83e4d4cd-4c7f-48a7-bff7-85a532fb6a29'\n",
      "------------------------------------------------------------------------------------------------\n",
      "\n",
      "\n"
     ]
    }
   ],
   "source": [
    "# Deploy the stored function\n",
    "#\n",
    "function_id = function_details[\"metadata\"][\"guid\"]\n",
    "function_deployment_details = client.deployments.create( artifact_uid=function_id, name=\"CustomerChurn SPSS function scoring branch deployment v4\" )\n"
   ]
  },
  {
   "cell_type": "code",
   "execution_count": 43,
   "metadata": {},
   "outputs": [
    {
     "name": "stdout",
     "output_type": "stream",
     "text": [
      "------------------------------------  --------------------------------------------------------  ------  --------------  ------------------------  -----------------  -------------\n",
      "GUID                                  NAME                                                      TYPE    STATE           CREATED                   FRAMEWORK          ARTIFACT TYPE\n",
      "83e4d4cd-4c7f-48a7-bff7-85a532fb6a29  CustomerChurn SPSS function scoring branch deployment v3  online  DEPLOY_SUCCESS  2019-06-17T13:38:04.475Z  n/a                function\n",
      "e4a73684-8150-4fcb-a2a0-6cbf229ba8e0  SPSS_c5_scoring_branch_depl                               online  DEPLOY_SUCCESS  2019-06-17T13:31:11.481Z  spss-modeler-18.1  model\n",
      "36719e3e-48f8-4da8-9db1-9403f6ce33a8  SPSS_churn_c5                                             online  DEPLOY_SUCCESS  2019-06-12T13:18:40.303Z  spss-modeler-18.1  model\n",
      "4e1090d0-e144-4e38-a1ff-81e328183519  Telus_hot_enc_0603                                        online  DEPLOY_SUCCESS  2019-06-03T17:18:03.342Z  mllib-2.3          model\n",
      "------------------------------------  --------------------------------------------------------  ------  --------------  ------------------------  -----------------  -------------\n"
     ]
    }
   ],
   "source": [
    "# List the deployments in WML\n",
    "# You should see a reference to the function you just deployed (check the Name field)\n",
    "client.deployments.list()"
   ]
  },
  {
   "cell_type": "code",
   "execution_count": 44,
   "metadata": {},
   "outputs": [],
   "source": [
    "# Pull the deployment id from the previous cell that corresponds to the function you just deployed\n",
    "deployment_id = '83e4d4cd-4c7f-48a7-bff7-85a532fb6a29'"
   ]
  },
  {
   "cell_type": "code",
   "execution_count": 45,
   "metadata": {},
   "outputs": [],
   "source": [
    "function_deployment_details = client.deployments.get_details(deployment_id)"
   ]
  },
  {
   "cell_type": "code",
   "execution_count": 46,
   "metadata": {},
   "outputs": [
    {
     "data": {
      "text/plain": [
       "'https://us-south.ml.cloud.ibm.com/v3/wml_instances/8654e5c8-9bda-4800-9b4d-31d69fa179c3/deployments/83e4d4cd-4c7f-48a7-bff7-85a532fb6a29/online'"
      ]
     },
     "execution_count": 46,
     "metadata": {},
     "output_type": "execute_result"
    }
   ],
   "source": [
    "# Get the endpoint URL of the function deployment just created\n",
    "#\n",
    "function_deployment_endpoint_url = client.deployments.get_scoring_url( function_deployment_details )\n",
    "function_deployment_endpoint_url"
   ]
  },
  {
   "cell_type": "code",
   "execution_count": 47,
   "metadata": {},
   "outputs": [
    {
     "name": "stdout",
     "output_type": "stream",
     "text": [
      "<class 'dict'>\n",
      "{'values': [['F', 'S', 1, 38000.0, 'N', 24.393333, 23.56, 0.0, 206.08, 0, 'CC', 'Budget', 'Intnl_discount', 229.64, 3], ['M', 'M', 2, 29616.0, 'N', 49.426667, 29.78, 0.0, 45.5, 0, 'CH', 'FreeLocal', 'Standard', 75.29, 2]], 'fields': ['Gender', 'Status', 'Children', 'Est Income', 'Car Owner', 'Age', 'LongDistance', 'International', 'Local', 'Dropped', 'Paymethod', 'LocalBilltype', 'LongDistanceBilltype', 'Usage', 'RatePlan']}\n"
     ]
    }
   ],
   "source": [
    "#Define test data to send to the function\n",
    "\n",
    "fields=[\"Gender\", \"Status\", \"Children\", \"Est Income\", \"Car Owner\", \"Age\", \"LongDistance\", \"International\", \"Local\", \"Dropped\", \"Paymethod\", \"LocalBilltype\", \"LongDistanceBilltype\", \"Usage\", \"RatePlan\"]\n",
    "values= [array_of_values_to_be_scored, another_array_of_values_to_be_scored]\n",
    "\n",
    "\n",
    "test_data2 = {\n",
    "    \"fields\": fields,\n",
    "    \"values\": values\n",
    "}\n",
    "print(type(test_data2))\n",
    "print(test_data2)"
   ]
  },
  {
   "cell_type": "code",
   "execution_count": 48,
   "metadata": {},
   "outputs": [
    {
     "name": "stdout",
     "output_type": "stream",
     "text": [
      "{'values': [['F', 'S', 1, 38000.0, 'N', 24.393333, 23.56, 0.0, 206.08, 0, 'CC', 'Budget', 'Intnl_discount', 229.64, 3], ['M', 'M', 2, 29616.0, 'N', 49.426667, 29.78, 0.0, 45.5, 0, 'CH', 'FreeLocal', 'Standard', 75.29, 2]], 'fields': ['Gender', 'Status', 'Children', 'Est Income', 'Car Owner', 'Age', 'LongDistance', 'International', 'Local', 'Dropped', 'Paymethod', 'LocalBilltype', 'LongDistanceBilltype', 'Usage', 'RatePlan']}\n",
      "{'values': [['F', 'S', 1, 38000.0, 'N', 24.393333, 23.56, 0.0, 206.08, 0, 'CC', 'Budget', 'Intnl_discount', 229.64, 3, [0.008403361344537785, 0.9915966386554622], 1.0, 'T'], ['M', 'M', 2, 29616.0, 'N', 49.426667, 29.78, 0.0, 45.5, 0, 'CH', 'FreeLocal', 'Standard', 75.29, 2, [0.964824120603015, 0.035175879396984966], 0.0, 'F']], 'fields': ['Gender', 'Status', 'Children', 'Est Income', 'Car Owner', 'Age', 'LongDistance', 'International', 'Local', 'Dropped', 'Paymethod', 'LocalBilltype', 'LongDistanceBilltype', 'Usage', 'RatePlan', 'probability', 'prediction', 'predictedLabel']}\n"
     ]
    }
   ],
   "source": [
    "payload = test_data2\n",
    "print(payload)\n",
    "result = client.deployments.score( function_deployment_endpoint_url, payload )\n",
    "#result = client.deployments.score( spss_scoring_url, payload )\n",
    "if \"error\" in result:\n",
    "    print( result[\"error\"] )\n",
    "else:\n",
    "    print( result )"
   ]
  },
  {
   "cell_type": "markdown",
   "metadata": {},
   "source": [
    "### As function is deployed in WML, use Openscale UI to set it up for monitoring"
   ]
  },
  {
   "cell_type": "code",
   "execution_count": null,
   "metadata": {},
   "outputs": [],
   "source": []
  }
 ],
 "metadata": {
  "kernelspec": {
   "display_name": "Python 3.5",
   "language": "python",
   "name": "python3"
  },
  "language_info": {
   "codemirror_mode": {
    "name": "ipython",
    "version": 3
   },
   "file_extension": ".py",
   "mimetype": "text/x-python",
   "name": "python",
   "nbconvert_exporter": "python",
   "pygments_lexer": "ipython3",
   "version": "3.5.5"
  }
 },
 "nbformat": 4,
 "nbformat_minor": 2
}
